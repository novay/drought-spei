{
 "cells": [
  {
   "cell_type": "code",
   "execution_count": 1,
   "metadata": {},
   "outputs": [
    {
     "name": "stdout",
     "output_type": "stream",
     "text": [
      "16315\n"
     ]
    },
    {
     "data": {
      "text/html": [
       "<div>\n",
       "<style scoped>\n",
       "    .dataframe tbody tr th:only-of-type {\n",
       "        vertical-align: middle;\n",
       "    }\n",
       "\n",
       "    .dataframe tbody tr th {\n",
       "        vertical-align: top;\n",
       "    }\n",
       "\n",
       "    .dataframe thead th {\n",
       "        text-align: right;\n",
       "    }\n",
       "</style>\n",
       "<table border=\"1\" class=\"dataframe\">\n",
       "  <thead>\n",
       "    <tr style=\"text-align: right;\">\n",
       "      <th></th>\n",
       "      <th>Unnamed: 0</th>\n",
       "      <th>Tn</th>\n",
       "      <th>Tx</th>\n",
       "      <th>Tavg</th>\n",
       "      <th>RH_avg</th>\n",
       "      <th>RR</th>\n",
       "      <th>ss</th>\n",
       "      <th>ff_x</th>\n",
       "      <th>ddd_x</th>\n",
       "      <th>ff_avg</th>\n",
       "      <th>...</th>\n",
       "      <th>stasiun</th>\n",
       "      <th>Evaporasi</th>\n",
       "      <th>SPEI-30</th>\n",
       "      <th>Kategori-30</th>\n",
       "      <th>SPEI-60</th>\n",
       "      <th>Kategori-60</th>\n",
       "      <th>SPEI-90</th>\n",
       "      <th>Kategori-90</th>\n",
       "      <th>SPEI-120</th>\n",
       "      <th>Kategori-120</th>\n",
       "    </tr>\n",
       "  </thead>\n",
       "  <tbody>\n",
       "    <tr>\n",
       "      <th>16667</th>\n",
       "      <td>16667</td>\n",
       "      <td>24.8</td>\n",
       "      <td>32.6</td>\n",
       "      <td>27.2</td>\n",
       "      <td>88.0</td>\n",
       "      <td>1.6</td>\n",
       "      <td>6.8</td>\n",
       "      <td>3.0</td>\n",
       "      <td>280.0</td>\n",
       "      <td>1.0</td>\n",
       "      <td>...</td>\n",
       "      <td>96529</td>\n",
       "      <td>0.004040</td>\n",
       "      <td>1.083280</td>\n",
       "      <td>NO-DROUGHT</td>\n",
       "      <td>0.508479</td>\n",
       "      <td>NO-DROUGHT</td>\n",
       "      <td>-0.301065</td>\n",
       "      <td>NO-DROUGHT</td>\n",
       "      <td>-0.621656</td>\n",
       "      <td>MILD</td>\n",
       "    </tr>\n",
       "    <tr>\n",
       "      <th>16668</th>\n",
       "      <td>16668</td>\n",
       "      <td>23.6</td>\n",
       "      <td>33.6</td>\n",
       "      <td>27.9</td>\n",
       "      <td>85.0</td>\n",
       "      <td>41.3</td>\n",
       "      <td>6.0</td>\n",
       "      <td>5.0</td>\n",
       "      <td>230.0</td>\n",
       "      <td>1.0</td>\n",
       "      <td>...</td>\n",
       "      <td>96529</td>\n",
       "      <td>0.004645</td>\n",
       "      <td>1.130926</td>\n",
       "      <td>NO-DROUGHT</td>\n",
       "      <td>0.755852</td>\n",
       "      <td>NO-DROUGHT</td>\n",
       "      <td>-0.030161</td>\n",
       "      <td>NO-DROUGHT</td>\n",
       "      <td>-0.391918</td>\n",
       "      <td>NO-DROUGHT</td>\n",
       "    </tr>\n",
       "    <tr>\n",
       "      <th>16669</th>\n",
       "      <td>16669</td>\n",
       "      <td>23.4</td>\n",
       "      <td>34.9</td>\n",
       "      <td>27.7</td>\n",
       "      <td>86.0</td>\n",
       "      <td>31.6</td>\n",
       "      <td>10.2</td>\n",
       "      <td>3.0</td>\n",
       "      <td>280.0</td>\n",
       "      <td>1.0</td>\n",
       "      <td>...</td>\n",
       "      <td>96529</td>\n",
       "      <td>0.004960</td>\n",
       "      <td>1.325941</td>\n",
       "      <td>NO-DROUGHT</td>\n",
       "      <td>0.933588</td>\n",
       "      <td>NO-DROUGHT</td>\n",
       "      <td>0.090963</td>\n",
       "      <td>NO-DROUGHT</td>\n",
       "      <td>-0.283589</td>\n",
       "      <td>NO-DROUGHT</td>\n",
       "    </tr>\n",
       "    <tr>\n",
       "      <th>16670</th>\n",
       "      <td>16670</td>\n",
       "      <td>23.6</td>\n",
       "      <td>31.9</td>\n",
       "      <td>27.3</td>\n",
       "      <td>86.0</td>\n",
       "      <td>0.8</td>\n",
       "      <td>8.5</td>\n",
       "      <td>3.0</td>\n",
       "      <td>100.0</td>\n",
       "      <td>1.0</td>\n",
       "      <td>...</td>\n",
       "      <td>96529</td>\n",
       "      <td>0.004176</td>\n",
       "      <td>1.299163</td>\n",
       "      <td>NO-DROUGHT</td>\n",
       "      <td>0.937887</td>\n",
       "      <td>NO-DROUGHT</td>\n",
       "      <td>-0.056339</td>\n",
       "      <td>NO-DROUGHT</td>\n",
       "      <td>-0.279025</td>\n",
       "      <td>NO-DROUGHT</td>\n",
       "    </tr>\n",
       "    <tr>\n",
       "      <th>16671</th>\n",
       "      <td>16671</td>\n",
       "      <td>23.6</td>\n",
       "      <td>34.8</td>\n",
       "      <td>28.6</td>\n",
       "      <td>82.0</td>\n",
       "      <td>0.0</td>\n",
       "      <td>5.4</td>\n",
       "      <td>3.0</td>\n",
       "      <td>300.0</td>\n",
       "      <td>1.0</td>\n",
       "      <td>...</td>\n",
       "      <td>96529</td>\n",
       "      <td>0.004991</td>\n",
       "      <td>1.299158</td>\n",
       "      <td>NO-DROUGHT</td>\n",
       "      <td>0.741692</td>\n",
       "      <td>NO-DROUGHT</td>\n",
       "      <td>-0.085874</td>\n",
       "      <td>NO-DROUGHT</td>\n",
       "      <td>-0.279027</td>\n",
       "      <td>NO-DROUGHT</td>\n",
       "    </tr>\n",
       "  </tbody>\n",
       "</table>\n",
       "<p>5 rows × 24 columns</p>\n",
       "</div>"
      ],
      "text/plain": [
       "       Unnamed: 0    Tn    Tx  Tavg  RH_avg    RR    ss  ff_x  ddd_x  ff_avg  \\\n",
       "16667       16667  24.8  32.6  27.2    88.0   1.6   6.8   3.0  280.0     1.0   \n",
       "16668       16668  23.6  33.6  27.9    85.0  41.3   6.0   5.0  230.0     1.0   \n",
       "16669       16669  23.4  34.9  27.7    86.0  31.6  10.2   3.0  280.0     1.0   \n",
       "16670       16670  23.6  31.9  27.3    86.0   0.8   8.5   3.0  100.0     1.0   \n",
       "16671       16671  23.6  34.8  28.6    82.0   0.0   5.4   3.0  300.0     1.0   \n",
       "\n",
       "       ... stasiun  Evaporasi   SPEI-30  Kategori-30   SPEI-60  Kategori-60  \\\n",
       "16667  ...   96529   0.004040  1.083280   NO-DROUGHT  0.508479   NO-DROUGHT   \n",
       "16668  ...   96529   0.004645  1.130926   NO-DROUGHT  0.755852   NO-DROUGHT   \n",
       "16669  ...   96529   0.004960  1.325941   NO-DROUGHT  0.933588   NO-DROUGHT   \n",
       "16670  ...   96529   0.004176  1.299163   NO-DROUGHT  0.937887   NO-DROUGHT   \n",
       "16671  ...   96529   0.004991  1.299158   NO-DROUGHT  0.741692   NO-DROUGHT   \n",
       "\n",
       "        SPEI-90 Kategori-90  SPEI-120 Kategori-120  \n",
       "16667 -0.301065  NO-DROUGHT -0.621656         MILD  \n",
       "16668 -0.030161  NO-DROUGHT -0.391918   NO-DROUGHT  \n",
       "16669  0.090963  NO-DROUGHT -0.283589   NO-DROUGHT  \n",
       "16670 -0.056339  NO-DROUGHT -0.279025   NO-DROUGHT  \n",
       "16671 -0.085874  NO-DROUGHT -0.279027   NO-DROUGHT  \n",
       "\n",
       "[5 rows x 24 columns]"
      ]
     },
     "execution_count": 1,
     "metadata": {},
     "output_type": "execute_result"
    }
   ],
   "source": [
    "import pandas as pd\n",
    "\n",
    "df = pd.read_csv('data/kaltim-fix.csv')\n",
    "df.dropna(inplace=True)\n",
    "\n",
    "print(len(df))\n",
    "df.tail()"
   ]
  },
  {
   "cell_type": "code",
   "execution_count": 47,
   "metadata": {},
   "outputs": [
    {
     "name": "stdout",
     "output_type": "stream",
     "text": [
      "Unnamed: 0      0\n",
      "Tn              0\n",
      "Tx              0\n",
      "Tavg            0\n",
      "RH_avg          0\n",
      "RR              0\n",
      "ss              0\n",
      "ff_x            0\n",
      "ddd_x           0\n",
      "ff_avg          0\n",
      "ddd_car         0\n",
      "lat             0\n",
      "long            0\n",
      "el              0\n",
      "stasiun         0\n",
      "Evaporasi       0\n",
      "SPEI-30         0\n",
      "Kategori-30     0\n",
      "SPEI-60         0\n",
      "Kategori-60     0\n",
      "SPEI-90         0\n",
      "Kategori-90     0\n",
      "SPEI-120        0\n",
      "Kategori-120    0\n",
      "dtype: int64\n"
     ]
    }
   ],
   "source": [
    "print(df.isnull().sum())"
   ]
  },
  {
   "cell_type": "code",
   "execution_count": 48,
   "metadata": {},
   "outputs": [],
   "source": [
    "from sklearn.model_selection import train_test_split\n",
    "from sklearn.neighbors import KNeighborsClassifier\n",
    "from sklearn.metrics import accuracy_score, precision_score, recall_score, f1_score\n",
    "\n",
    "# Predictor variables\n",
    "X = df[['RR', 'RH_avg', 'ff_avg', 'ss', 'Tx', 'Tn']]\n",
    "\n",
    "# Target variable\n",
    "y = df['Kategori-30']\n",
    "\n",
    "X_train, X_test, y_train, y_test = train_test_split(X, y, test_size=0.3, random_state=42)"
   ]
  },
  {
   "cell_type": "code",
   "execution_count": 49,
   "metadata": {},
   "outputs": [
    {
     "name": "stdout",
     "output_type": "stream",
     "text": [
      "Optimal k: 20\n"
     ]
    }
   ],
   "source": [
    "from sklearn.model_selection import cross_val_score\n",
    "import numpy as np\n",
    "\n",
    "k_values = list(range(1, 21))\n",
    "\n",
    "cv_scores = []\n",
    "for k in k_values:\n",
    "    knn = KNeighborsClassifier(n_neighbors=k)\n",
    "\n",
    "    scores = cross_val_score(knn, X_train, y_train)\n",
    "    mean_score = np.mean(scores)\n",
    "\n",
    "    cv_scores.append(mean_score)\n",
    "\n",
    "optimal_k = k_values[np.argmax(cv_scores)]\n",
    "print(\"Optimal k:\", optimal_k)"
   ]
  },
  {
   "cell_type": "code",
   "execution_count": 52,
   "metadata": {},
   "outputs": [
    {
     "data": {
      "text/html": [
       "<style>#sk-container-id-1 {color: black;background-color: white;}#sk-container-id-1 pre{padding: 0;}#sk-container-id-1 div.sk-toggleable {background-color: white;}#sk-container-id-1 label.sk-toggleable__label {cursor: pointer;display: block;width: 100%;margin-bottom: 0;padding: 0.3em;box-sizing: border-box;text-align: center;}#sk-container-id-1 label.sk-toggleable__label-arrow:before {content: \"▸\";float: left;margin-right: 0.25em;color: #696969;}#sk-container-id-1 label.sk-toggleable__label-arrow:hover:before {color: black;}#sk-container-id-1 div.sk-estimator:hover label.sk-toggleable__label-arrow:before {color: black;}#sk-container-id-1 div.sk-toggleable__content {max-height: 0;max-width: 0;overflow: hidden;text-align: left;background-color: #f0f8ff;}#sk-container-id-1 div.sk-toggleable__content pre {margin: 0.2em;color: black;border-radius: 0.25em;background-color: #f0f8ff;}#sk-container-id-1 input.sk-toggleable__control:checked~div.sk-toggleable__content {max-height: 200px;max-width: 100%;overflow: auto;}#sk-container-id-1 input.sk-toggleable__control:checked~label.sk-toggleable__label-arrow:before {content: \"▾\";}#sk-container-id-1 div.sk-estimator input.sk-toggleable__control:checked~label.sk-toggleable__label {background-color: #d4ebff;}#sk-container-id-1 div.sk-label input.sk-toggleable__control:checked~label.sk-toggleable__label {background-color: #d4ebff;}#sk-container-id-1 input.sk-hidden--visually {border: 0;clip: rect(1px 1px 1px 1px);clip: rect(1px, 1px, 1px, 1px);height: 1px;margin: -1px;overflow: hidden;padding: 0;position: absolute;width: 1px;}#sk-container-id-1 div.sk-estimator {font-family: monospace;background-color: #f0f8ff;border: 1px dotted black;border-radius: 0.25em;box-sizing: border-box;margin-bottom: 0.5em;}#sk-container-id-1 div.sk-estimator:hover {background-color: #d4ebff;}#sk-container-id-1 div.sk-parallel-item::after {content: \"\";width: 100%;border-bottom: 1px solid gray;flex-grow: 1;}#sk-container-id-1 div.sk-label:hover label.sk-toggleable__label {background-color: #d4ebff;}#sk-container-id-1 div.sk-serial::before {content: \"\";position: absolute;border-left: 1px solid gray;box-sizing: border-box;top: 0;bottom: 0;left: 50%;z-index: 0;}#sk-container-id-1 div.sk-serial {display: flex;flex-direction: column;align-items: center;background-color: white;padding-right: 0.2em;padding-left: 0.2em;position: relative;}#sk-container-id-1 div.sk-item {position: relative;z-index: 1;}#sk-container-id-1 div.sk-parallel {display: flex;align-items: stretch;justify-content: center;background-color: white;position: relative;}#sk-container-id-1 div.sk-item::before, #sk-container-id-1 div.sk-parallel-item::before {content: \"\";position: absolute;border-left: 1px solid gray;box-sizing: border-box;top: 0;bottom: 0;left: 50%;z-index: -1;}#sk-container-id-1 div.sk-parallel-item {display: flex;flex-direction: column;z-index: 1;position: relative;background-color: white;}#sk-container-id-1 div.sk-parallel-item:first-child::after {align-self: flex-end;width: 50%;}#sk-container-id-1 div.sk-parallel-item:last-child::after {align-self: flex-start;width: 50%;}#sk-container-id-1 div.sk-parallel-item:only-child::after {width: 0;}#sk-container-id-1 div.sk-dashed-wrapped {border: 1px dashed gray;margin: 0 0.4em 0.5em 0.4em;box-sizing: border-box;padding-bottom: 0.4em;background-color: white;}#sk-container-id-1 div.sk-label label {font-family: monospace;font-weight: bold;display: inline-block;line-height: 1.2em;}#sk-container-id-1 div.sk-label-container {text-align: center;}#sk-container-id-1 div.sk-container {/* jupyter's `normalize.less` sets `[hidden] { display: none; }` but bootstrap.min.css set `[hidden] { display: none !important; }` so we also need the `!important` here to be able to override the default hidden behavior on the sphinx rendered scikit-learn.org. See: https://github.com/scikit-learn/scikit-learn/issues/21755 */display: inline-block !important;position: relative;}#sk-container-id-1 div.sk-text-repr-fallback {display: none;}</style><div id=\"sk-container-id-1\" class=\"sk-top-container\"><div class=\"sk-text-repr-fallback\"><pre>KNeighborsClassifier(n_neighbors=20)</pre><b>In a Jupyter environment, please rerun this cell to show the HTML representation or trust the notebook. <br />On GitHub, the HTML representation is unable to render, please try loading this page with nbviewer.org.</b></div><div class=\"sk-container\" hidden><div class=\"sk-item\"><div class=\"sk-estimator sk-toggleable\"><input class=\"sk-toggleable__control sk-hidden--visually\" id=\"sk-estimator-id-1\" type=\"checkbox\" checked><label for=\"sk-estimator-id-1\" class=\"sk-toggleable__label sk-toggleable__label-arrow\">KNeighborsClassifier</label><div class=\"sk-toggleable__content\"><pre>KNeighborsClassifier(n_neighbors=20)</pre></div></div></div></div></div>"
      ],
      "text/plain": [
       "KNeighborsClassifier(n_neighbors=20)"
      ]
     },
     "execution_count": 52,
     "metadata": {},
     "output_type": "execute_result"
    }
   ],
   "source": [
    "# # Tingkat penting berdasarkan persentase\n",
    "# weights = [100, 80, 70, 40, 20, 0]\n",
    "\n",
    "# def custom_distance(x, y, w):\n",
    "#     return np.sum(w * np.abs(x - y))\n",
    "\n",
    "# # Mengubah bobot pada data training\n",
    "# X_train_weighted = X_train * (weights_percent / 100.0)\n",
    "\n",
    "# knn = KNeighborsClassifier(n_neighbors=18, metric=custom_distance, metric_params={'w': weights})\n",
    "knn = KNeighborsClassifier(n_neighbors=20)\n",
    "knn.fit(X_train, y_train)"
   ]
  },
  {
   "cell_type": "code",
   "execution_count": 53,
   "metadata": {},
   "outputs": [
    {
     "name": "stdout",
     "output_type": "stream",
     "text": [
      "Accuracy: 0.6808988764044944\n",
      "Precision: 0.5563158051466244\n",
      "Recall: 0.6808988764044944\n",
      "F1 Score: 0.5617174650689146\n"
     ]
    }
   ],
   "source": [
    "# Make predictions on the testing data\n",
    "y_pred = knn.predict(X_test)\n",
    "\n",
    "# Calculate the accuracy of the model\n",
    "accuracy = accuracy_score(y_test, y_pred)\n",
    "print(\"Accuracy:\", accuracy)\n",
    "\n",
    "precision = precision_score(y_test, y_pred, average='weighted', zero_division=1)\n",
    "recall = recall_score(y_test, y_pred, average='weighted')\n",
    "f1 = f1_score(y_test, y_pred, average='weighted')\n",
    "\n",
    "print(\"Precision:\", precision)\n",
    "print(\"Recall:\", recall)\n",
    "print(\"F1 Score:\", f1)"
   ]
  },
  {
   "cell_type": "code",
   "execution_count": 54,
   "metadata": {},
   "outputs": [
    {
     "name": "stdout",
     "output_type": "stream",
     "text": [
      "Classification Report:\n",
      "              precision    recall  f1-score   support\n",
      "\n",
      "     EXTREME       1.00      0.00      0.00        88\n",
      "        MILD       0.27      0.01      0.03       732\n",
      "    MODERATE       0.24      0.01      0.02       466\n",
      "  NO-DROUGHT       0.69      0.99      0.81      3347\n",
      "      SEVERE       0.09      0.00      0.01       262\n",
      "\n",
      "    accuracy                           0.68      4895\n",
      "   macro avg       0.46      0.20      0.17      4895\n",
      "weighted avg       0.56      0.68      0.56      4895\n",
      "\n"
     ]
    }
   ],
   "source": [
    "from sklearn.metrics import classification_report\n",
    "\n",
    "# Generate classification report\n",
    "report = classification_report(y_test, y_pred, zero_division=1)\n",
    "print(\"Classification Report:\")\n",
    "print(report)"
   ]
  },
  {
   "cell_type": "code",
   "execution_count": null,
   "metadata": {},
   "outputs": [],
   "source": [
    "import pickle\n",
    "\n",
    "with open('models/knn.pkl', 'wb') as file:\n",
    "    pickle.dump(knn, file)"
   ]
  },
  {
   "cell_type": "code",
   "execution_count": null,
   "metadata": {},
   "outputs": [
    {
     "data": {
      "text/plain": [
       "array(['NO-DROUGHT', 'NO-DROUGHT', 'NO-DROUGHT'], dtype=object)"
      ]
     },
     "execution_count": 229,
     "metadata": {},
     "output_type": "execute_result"
    }
   ],
   "source": [
    "# with open('models/knn.pkl', 'rb') as file:\n",
    "#     knn_loaded = pickle.load(file)\n",
    "\n",
    "df_test = pd.DataFrame({\n",
    "    'RR': [0, 0, 0],  # No rainfall\n",
    "    'RH_avg': [0, 0, 0],\n",
    "    'ff_avg': [0, 0, 0],\n",
    "    'ss': [0, 0, 0],\n",
    "    'Tx': [50, 48, 52],  # Extreme drought values\n",
    "    'Tn': [40, 42, 45],  # Extreme drought values\n",
    "})\n",
    "\n",
    "prediction = knn.predict(df_test)\n",
    "prediction"
   ]
  },
  {
   "cell_type": "code",
   "execution_count": null,
   "metadata": {},
   "outputs": [
    {
     "name": "stdout",
     "output_type": "stream",
     "text": [
      "NO-DROUGHT\n"
     ]
    }
   ],
   "source": [
    "prediction_mode = pd.DataFrame(prediction).mode(axis=0, dropna=False)\n",
    "print(prediction_mode[0][0])"
   ]
  }
 ],
 "metadata": {
  "kernelspec": {
   "display_name": "Python 3",
   "language": "python",
   "name": "python3"
  },
  "language_info": {
   "codemirror_mode": {
    "name": "ipython",
    "version": 3
   },
   "file_extension": ".py",
   "mimetype": "text/x-python",
   "name": "python",
   "nbconvert_exporter": "python",
   "pygments_lexer": "ipython3",
   "version": "3.11.3"
  },
  "orig_nbformat": 4
 },
 "nbformat": 4,
 "nbformat_minor": 2
}
