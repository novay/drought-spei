{
 "cells": [
  {
   "attachments": {},
   "cell_type": "markdown",
   "metadata": {},
   "source": [
    "#### **Area Study**\n",
    "| ID WMO* | Nama Stasiun | Lintang | Bujur | Elevasi |\n",
    "|:-----|:-------------|:--------|:------|:--------|\n",
    "| 96529 | Stasiun Meteorologi Kalimarau | 2.14562 | 117.43375 | 13 |\n",
    "| 96633 | Stasiun Meteorologi Sultan Aji Muhammad Sulaiman Sepinggan | -1.26000 | 116.90000 | 3 |\n",
    "| 96607 | Stasiun Meteorologi Aji Pangeran Tumenggung Pranoto | -0.48000 | 117.16000 | 10 |\n",
    "\n",
    "<small>* World Meteorological Organization</small>"
   ]
  },
  {
   "attachments": {},
   "cell_type": "markdown",
   "metadata": {},
   "source": [
    "#### **Data Distribusion**\n",
    "| Split | Year Range (inclusive) | Percentage (approximate) |\n",
    "|:---|:------------|:-----------------------------------|\n",
    "| Train | 2000-2009 | 47% |\n",
    "| Validation | 2010-2011 | 10% |\n",
    "| Test | 2012-2020 | 43% |"
   ]
  },
  {
   "attachments": {},
   "cell_type": "markdown",
   "metadata": {},
   "source": [
    "#### **Acknowledgements**\n",
    "This dataset would not exist without the open data offered by BMKG Indonesia."
   ]
  }
 ],
 "metadata": {
  "language_info": {
   "name": "python"
  },
  "orig_nbformat": 4
 },
 "nbformat": 4,
 "nbformat_minor": 2
}
