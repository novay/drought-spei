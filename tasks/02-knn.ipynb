{
 "cells": [
  {
   "attachments": {},
   "cell_type": "markdown",
   "metadata": {},
   "source": [
    "## **K-Nearest Neighbor Algorithm**"
   ]
  },
  {
   "attachments": {},
   "cell_type": "markdown",
   "metadata": {},
   "source": [
    "#### **1. Load Dataset**"
   ]
  },
  {
   "cell_type": "code",
   "execution_count": 2,
   "metadata": {},
   "outputs": [
    {
     "name": "stdout",
     "output_type": "stream",
     "text": [
      "7553\n"
     ]
    },
    {
     "data": {
      "text/html": [
       "<div>\n",
       "<style scoped>\n",
       "    .dataframe tbody tr th:only-of-type {\n",
       "        vertical-align: middle;\n",
       "    }\n",
       "\n",
       "    .dataframe tbody tr th {\n",
       "        vertical-align: top;\n",
       "    }\n",
       "\n",
       "    .dataframe thead th {\n",
       "        text-align: right;\n",
       "    }\n",
       "</style>\n",
       "<table border=\"1\" class=\"dataframe\">\n",
       "  <thead>\n",
       "    <tr style=\"text-align: right;\">\n",
       "      <th></th>\n",
       "      <th>Tanggal</th>\n",
       "      <th>Stasiun</th>\n",
       "      <th>Tn</th>\n",
       "      <th>Tx</th>\n",
       "      <th>Tavg</th>\n",
       "      <th>RH_avg</th>\n",
       "      <th>RR</th>\n",
       "      <th>ss</th>\n",
       "      <th>ff_x</th>\n",
       "      <th>ddd_x</th>\n",
       "      <th>ff_avg</th>\n",
       "      <th>ddd_car</th>\n",
       "      <th>Lat</th>\n",
       "      <th>Long</th>\n",
       "      <th>El</th>\n",
       "      <th>Evaporasi</th>\n",
       "      <th>SPEI</th>\n",
       "      <th>Kategori</th>\n",
       "    </tr>\n",
       "  </thead>\n",
       "  <tbody>\n",
       "    <tr>\n",
       "      <th>7548</th>\n",
       "      <td>2020-12-21</td>\n",
       "      <td>96633</td>\n",
       "      <td>24.8</td>\n",
       "      <td>31.1</td>\n",
       "      <td>27.8</td>\n",
       "      <td>90.0</td>\n",
       "      <td>3.7</td>\n",
       "      <td>1.0</td>\n",
       "      <td>5.0</td>\n",
       "      <td>210.0</td>\n",
       "      <td>2.0</td>\n",
       "      <td>SW</td>\n",
       "      <td>-1.26</td>\n",
       "      <td>116.9</td>\n",
       "      <td>3</td>\n",
       "      <td>0.003533</td>\n",
       "      <td>0.289738</td>\n",
       "      <td>D0</td>\n",
       "    </tr>\n",
       "    <tr>\n",
       "      <th>7549</th>\n",
       "      <td>2020-12-24</td>\n",
       "      <td>96633</td>\n",
       "      <td>24.8</td>\n",
       "      <td>30.7</td>\n",
       "      <td>26.9</td>\n",
       "      <td>85.0</td>\n",
       "      <td>5.7</td>\n",
       "      <td>1.7</td>\n",
       "      <td>7.0</td>\n",
       "      <td>260.0</td>\n",
       "      <td>2.0</td>\n",
       "      <td>W</td>\n",
       "      <td>-1.26</td>\n",
       "      <td>116.9</td>\n",
       "      <td>3</td>\n",
       "      <td>0.003351</td>\n",
       "      <td>0.379628</td>\n",
       "      <td>D0</td>\n",
       "    </tr>\n",
       "    <tr>\n",
       "      <th>7550</th>\n",
       "      <td>2020-12-25</td>\n",
       "      <td>96633</td>\n",
       "      <td>24.7</td>\n",
       "      <td>30.2</td>\n",
       "      <td>27.1</td>\n",
       "      <td>84.0</td>\n",
       "      <td>0.0</td>\n",
       "      <td>1.9</td>\n",
       "      <td>3.0</td>\n",
       "      <td>250.0</td>\n",
       "      <td>1.0</td>\n",
       "      <td>C</td>\n",
       "      <td>-1.26</td>\n",
       "      <td>116.9</td>\n",
       "      <td>3</td>\n",
       "      <td>0.003250</td>\n",
       "      <td>-1.304603</td>\n",
       "      <td>D2</td>\n",
       "    </tr>\n",
       "    <tr>\n",
       "      <th>7551</th>\n",
       "      <td>2020-12-29</td>\n",
       "      <td>96633</td>\n",
       "      <td>24.0</td>\n",
       "      <td>31.0</td>\n",
       "      <td>27.3</td>\n",
       "      <td>86.0</td>\n",
       "      <td>1.1</td>\n",
       "      <td>1.0</td>\n",
       "      <td>4.0</td>\n",
       "      <td>240.0</td>\n",
       "      <td>2.0</td>\n",
       "      <td>S</td>\n",
       "      <td>-1.26</td>\n",
       "      <td>116.9</td>\n",
       "      <td>3</td>\n",
       "      <td>0.003683</td>\n",
       "      <td>0.034694</td>\n",
       "      <td>D0</td>\n",
       "    </tr>\n",
       "    <tr>\n",
       "      <th>7552</th>\n",
       "      <td>2020-12-30</td>\n",
       "      <td>96633</td>\n",
       "      <td>25.0</td>\n",
       "      <td>30.1</td>\n",
       "      <td>27.4</td>\n",
       "      <td>86.0</td>\n",
       "      <td>0.0</td>\n",
       "      <td>0.7</td>\n",
       "      <td>6.0</td>\n",
       "      <td>220.0</td>\n",
       "      <td>2.0</td>\n",
       "      <td>W</td>\n",
       "      <td>-1.26</td>\n",
       "      <td>116.9</td>\n",
       "      <td>3</td>\n",
       "      <td>0.003151</td>\n",
       "      <td>-1.290964</td>\n",
       "      <td>D2</td>\n",
       "    </tr>\n",
       "  </tbody>\n",
       "</table>\n",
       "</div>"
      ],
      "text/plain": [
       "         Tanggal  Stasiun    Tn    Tx  Tavg  RH_avg   RR   ss  ff_x  ddd_x  \\\n",
       "7548  2020-12-21    96633  24.8  31.1  27.8    90.0  3.7  1.0   5.0  210.0   \n",
       "7549  2020-12-24    96633  24.8  30.7  26.9    85.0  5.7  1.7   7.0  260.0   \n",
       "7550  2020-12-25    96633  24.7  30.2  27.1    84.0  0.0  1.9   3.0  250.0   \n",
       "7551  2020-12-29    96633  24.0  31.0  27.3    86.0  1.1  1.0   4.0  240.0   \n",
       "7552  2020-12-30    96633  25.0  30.1  27.4    86.0  0.0  0.7   6.0  220.0   \n",
       "\n",
       "      ff_avg ddd_car   Lat   Long  El  Evaporasi      SPEI Kategori  \n",
       "7548     2.0      SW -1.26  116.9   3   0.003533  0.289738       D0  \n",
       "7549     2.0      W  -1.26  116.9   3   0.003351  0.379628       D0  \n",
       "7550     1.0      C  -1.26  116.9   3   0.003250 -1.304603       D2  \n",
       "7551     2.0      S  -1.26  116.9   3   0.003683  0.034694       D0  \n",
       "7552     2.0      W  -1.26  116.9   3   0.003151 -1.290964       D2  "
      ]
     },
     "execution_count": 2,
     "metadata": {},
     "output_type": "execute_result"
    }
   ],
   "source": [
    "import pandas as pd\n",
    "\n",
    "df = pd.read_csv('../data/test/combine.csv')\n",
    "df.dropna(inplace=True)\n",
    "\n",
    "print(len(df))\n",
    "df.tail()"
   ]
  },
  {
   "attachments": {},
   "cell_type": "markdown",
   "metadata": {},
   "source": [
    "#### **2. Null Identification**"
   ]
  },
  {
   "cell_type": "code",
   "execution_count": 3,
   "metadata": {},
   "outputs": [
    {
     "name": "stdout",
     "output_type": "stream",
     "text": [
      "Tanggal      0\n",
      "Stasiun      0\n",
      "Tn           0\n",
      "Tx           0\n",
      "Tavg         0\n",
      "RH_avg       0\n",
      "RR           0\n",
      "ss           0\n",
      "ff_x         0\n",
      "ddd_x        0\n",
      "ff_avg       0\n",
      "ddd_car      0\n",
      "Lat          0\n",
      "Long         0\n",
      "El           0\n",
      "Evaporasi    0\n",
      "SPEI         0\n",
      "Kategori     0\n",
      "dtype: int64\n"
     ]
    }
   ],
   "source": [
    "print(df.isnull().sum())"
   ]
  },
  {
   "attachments": {},
   "cell_type": "markdown",
   "metadata": {},
   "source": [
    "#### **3. Spliting Data Train & Test**"
   ]
  },
  {
   "cell_type": "code",
   "execution_count": 4,
   "metadata": {},
   "outputs": [],
   "source": [
    "from sklearn.model_selection import train_test_split\n",
    "from sklearn.neighbors import KNeighborsClassifier\n",
    "from sklearn.metrics import accuracy_score, precision_score, recall_score, f1_score\n",
    "\n",
    "# Variabel Prediktor\n",
    "# 1. Curah Hujan, \n",
    "# 2. Kelembaban (Rata-rata), \n",
    "# 3. Kecepatan Angin Maksimum (m/s)\n",
    "# 4. Lamanya penyinaran matahari, \n",
    "# 5. Suhu (Max), \n",
    "# 6. Suhu (Min)\n",
    "X = df[['RR', 'RH_avg', 'ff_avg', 'ss', 'Tx', 'Tn']]\n",
    "\n",
    "# Variable Target\n",
    "y = df['Kategori']\n",
    "\n",
    "X_train, X_test, y_train, y_test = train_test_split(X, y, test_size=0.3, random_state=42)"
   ]
  },
  {
   "attachments": {},
   "cell_type": "markdown",
   "metadata": {},
   "source": [
    "#### **4. Finding K-value**"
   ]
  },
  {
   "cell_type": "code",
   "execution_count": 5,
   "metadata": {},
   "outputs": [
    {
     "name": "stdout",
     "output_type": "stream",
     "text": [
      "Optimal k: 20\n"
     ]
    }
   ],
   "source": [
    "from sklearn.model_selection import cross_val_score\n",
    "import numpy as np\n",
    "\n",
    "k_values = list(range(1, 21))\n",
    "cv_scores = []\n",
    "for k in k_values:\n",
    "    knn = KNeighborsClassifier(n_neighbors=k)\n",
    "    scores = cross_val_score(knn, X_train, y_train)\n",
    "    mean_score = np.mean(scores)\n",
    "    cv_scores.append(mean_score)\n",
    "\n",
    "optimal_k = k_values[np.argmax(cv_scores)]\n",
    "print(\"Optimal k:\", optimal_k)"
   ]
  },
  {
   "attachments": {},
   "cell_type": "markdown",
   "metadata": {},
   "source": [
    "#### **5. Train Models**"
   ]
  },
  {
   "cell_type": "code",
   "execution_count": 6,
   "metadata": {},
   "outputs": [],
   "source": [
    "# @TODO : Pembobotan\n",
    "\n",
    "# weights = [100, 80, 70, 40, 20, 0]\n",
    "# def custom_distance(x, y, w):\n",
    "#     return np.sum(w * np.abs(x - y))\n",
    "# # Mengubah bobot pada data training\n",
    "# X_train_weighted = X_train * (weights_percent / 100.0)\n",
    "# knn = KNeighborsClassifier(n_neighbors=18, metric=custom_distance, metric_params={'w': weights})"
   ]
  },
  {
   "cell_type": "code",
   "execution_count": 7,
   "metadata": {},
   "outputs": [
    {
     "data": {
      "text/html": [
       "<style>#sk-container-id-1 {color: black;background-color: white;}#sk-container-id-1 pre{padding: 0;}#sk-container-id-1 div.sk-toggleable {background-color: white;}#sk-container-id-1 label.sk-toggleable__label {cursor: pointer;display: block;width: 100%;margin-bottom: 0;padding: 0.3em;box-sizing: border-box;text-align: center;}#sk-container-id-1 label.sk-toggleable__label-arrow:before {content: \"▸\";float: left;margin-right: 0.25em;color: #696969;}#sk-container-id-1 label.sk-toggleable__label-arrow:hover:before {color: black;}#sk-container-id-1 div.sk-estimator:hover label.sk-toggleable__label-arrow:before {color: black;}#sk-container-id-1 div.sk-toggleable__content {max-height: 0;max-width: 0;overflow: hidden;text-align: left;background-color: #f0f8ff;}#sk-container-id-1 div.sk-toggleable__content pre {margin: 0.2em;color: black;border-radius: 0.25em;background-color: #f0f8ff;}#sk-container-id-1 input.sk-toggleable__control:checked~div.sk-toggleable__content {max-height: 200px;max-width: 100%;overflow: auto;}#sk-container-id-1 input.sk-toggleable__control:checked~label.sk-toggleable__label-arrow:before {content: \"▾\";}#sk-container-id-1 div.sk-estimator input.sk-toggleable__control:checked~label.sk-toggleable__label {background-color: #d4ebff;}#sk-container-id-1 div.sk-label input.sk-toggleable__control:checked~label.sk-toggleable__label {background-color: #d4ebff;}#sk-container-id-1 input.sk-hidden--visually {border: 0;clip: rect(1px 1px 1px 1px);clip: rect(1px, 1px, 1px, 1px);height: 1px;margin: -1px;overflow: hidden;padding: 0;position: absolute;width: 1px;}#sk-container-id-1 div.sk-estimator {font-family: monospace;background-color: #f0f8ff;border: 1px dotted black;border-radius: 0.25em;box-sizing: border-box;margin-bottom: 0.5em;}#sk-container-id-1 div.sk-estimator:hover {background-color: #d4ebff;}#sk-container-id-1 div.sk-parallel-item::after {content: \"\";width: 100%;border-bottom: 1px solid gray;flex-grow: 1;}#sk-container-id-1 div.sk-label:hover label.sk-toggleable__label {background-color: #d4ebff;}#sk-container-id-1 div.sk-serial::before {content: \"\";position: absolute;border-left: 1px solid gray;box-sizing: border-box;top: 0;bottom: 0;left: 50%;z-index: 0;}#sk-container-id-1 div.sk-serial {display: flex;flex-direction: column;align-items: center;background-color: white;padding-right: 0.2em;padding-left: 0.2em;position: relative;}#sk-container-id-1 div.sk-item {position: relative;z-index: 1;}#sk-container-id-1 div.sk-parallel {display: flex;align-items: stretch;justify-content: center;background-color: white;position: relative;}#sk-container-id-1 div.sk-item::before, #sk-container-id-1 div.sk-parallel-item::before {content: \"\";position: absolute;border-left: 1px solid gray;box-sizing: border-box;top: 0;bottom: 0;left: 50%;z-index: -1;}#sk-container-id-1 div.sk-parallel-item {display: flex;flex-direction: column;z-index: 1;position: relative;background-color: white;}#sk-container-id-1 div.sk-parallel-item:first-child::after {align-self: flex-end;width: 50%;}#sk-container-id-1 div.sk-parallel-item:last-child::after {align-self: flex-start;width: 50%;}#sk-container-id-1 div.sk-parallel-item:only-child::after {width: 0;}#sk-container-id-1 div.sk-dashed-wrapped {border: 1px dashed gray;margin: 0 0.4em 0.5em 0.4em;box-sizing: border-box;padding-bottom: 0.4em;background-color: white;}#sk-container-id-1 div.sk-label label {font-family: monospace;font-weight: bold;display: inline-block;line-height: 1.2em;}#sk-container-id-1 div.sk-label-container {text-align: center;}#sk-container-id-1 div.sk-container {/* jupyter's `normalize.less` sets `[hidden] { display: none; }` but bootstrap.min.css set `[hidden] { display: none !important; }` so we also need the `!important` here to be able to override the default hidden behavior on the sphinx rendered scikit-learn.org. See: https://github.com/scikit-learn/scikit-learn/issues/21755 */display: inline-block !important;position: relative;}#sk-container-id-1 div.sk-text-repr-fallback {display: none;}</style><div id=\"sk-container-id-1\" class=\"sk-top-container\"><div class=\"sk-text-repr-fallback\"><pre>KNeighborsClassifier(n_neighbors=20)</pre><b>In a Jupyter environment, please rerun this cell to show the HTML representation or trust the notebook. <br />On GitHub, the HTML representation is unable to render, please try loading this page with nbviewer.org.</b></div><div class=\"sk-container\" hidden><div class=\"sk-item\"><div class=\"sk-estimator sk-toggleable\"><input class=\"sk-toggleable__control sk-hidden--visually\" id=\"sk-estimator-id-1\" type=\"checkbox\" checked><label for=\"sk-estimator-id-1\" class=\"sk-toggleable__label sk-toggleable__label-arrow\">KNeighborsClassifier</label><div class=\"sk-toggleable__content\"><pre>KNeighborsClassifier(n_neighbors=20)</pre></div></div></div></div></div>"
      ],
      "text/plain": [
       "KNeighborsClassifier(n_neighbors=20)"
      ]
     },
     "execution_count": 7,
     "metadata": {},
     "output_type": "execute_result"
    }
   ],
   "source": [
    "knn = KNeighborsClassifier(n_neighbors=optimal_k)\n",
    "knn.fit(X_train, y_train)"
   ]
  },
  {
   "attachments": {},
   "cell_type": "markdown",
   "metadata": {},
   "source": [
    "#### **6. Performance Measures**"
   ]
  },
  {
   "cell_type": "code",
   "execution_count": 8,
   "metadata": {},
   "outputs": [
    {
     "name": "stdout",
     "output_type": "stream",
     "text": [
      "Accuracy: 0.7511032656663724\n",
      "Precision: 0.7538100804483724\n",
      "Recall: 0.7511032656663724\n",
      "F1 Score: 0.7352198939781792\n"
     ]
    }
   ],
   "source": [
    "# Make predictions on the testing data\n",
    "y_pred = knn.predict(X_test)\n",
    "\n",
    "# Calculate the accuracy of the model\n",
    "accuracy = accuracy_score(y_test, y_pred)\n",
    "print(\"Accuracy:\", accuracy)\n",
    "\n",
    "precision = precision_score(y_test, y_pred, average='weighted', zero_division=1)\n",
    "recall = recall_score(y_test, y_pred, average='weighted')\n",
    "f1 = f1_score(y_test, y_pred, average='weighted')\n",
    "\n",
    "print(\"Precision:\", precision)\n",
    "print(\"Recall:\", recall)\n",
    "print(\"F1 Score:\", f1)"
   ]
  },
  {
   "cell_type": "code",
   "execution_count": 9,
   "metadata": {},
   "outputs": [
    {
     "name": "stdout",
     "output_type": "stream",
     "text": [
      "Classification Report:\n",
      "              precision    recall  f1-score   support\n",
      "\n",
      "          D0       0.96      0.91      0.93      1251\n",
      "          D1       0.48      0.31      0.38       222\n",
      "          D2       0.54      0.82      0.65       575\n",
      "          D3       0.36      0.13      0.19       206\n",
      "          D4       1.00      0.00      0.00        12\n",
      "\n",
      "    accuracy                           0.75      2266\n",
      "   macro avg       0.67      0.43      0.43      2266\n",
      "weighted avg       0.75      0.75      0.74      2266\n",
      "\n"
     ]
    }
   ],
   "source": [
    "from sklearn.metrics import classification_report\n",
    "\n",
    "# Generate classification report\n",
    "report = classification_report(y_test, y_pred, zero_division=1)\n",
    "print(\"Classification Report:\")\n",
    "print(report)"
   ]
  },
  {
   "attachments": {},
   "cell_type": "markdown",
   "metadata": {},
   "source": [
    "#### **7. Generate Models**"
   ]
  },
  {
   "cell_type": "code",
   "execution_count": 10,
   "metadata": {},
   "outputs": [],
   "source": [
    "import pickle\n",
    "\n",
    "with open('../models/knn.pkl', 'wb') as file:\n",
    "    pickle.dump(knn, file)"
   ]
  },
  {
   "attachments": {},
   "cell_type": "markdown",
   "metadata": {},
   "source": [
    "#### **8. Manual Predict**"
   ]
  },
  {
   "cell_type": "code",
   "execution_count": 11,
   "metadata": {},
   "outputs": [],
   "source": [
    "# with open('../models/knn.pkl', 'rb') as file:\n",
    "#     knn_loaded = pickle.load(file)\n",
    "\n",
    "def map_drought_condition(di):\n",
    "    condition_map = {\n",
    "        'D0': 'No-Drought',\n",
    "        'D1': 'MILD',\n",
    "        'D2': 'MODERATE',\n",
    "        'D3': 'SEVERE',\n",
    "        'D4': 'EXTREME'\n",
    "    }\n",
    "    return condition_map.get(di, 'Unknown')"
   ]
  },
  {
   "cell_type": "code",
   "execution_count": 15,
   "metadata": {},
   "outputs": [
    {
     "name": "stdout",
     "output_type": "stream",
     "text": [
      "MODERATE\n"
     ]
    }
   ],
   "source": [
    "# Contoh Prediksi\n",
    "# ============================\n",
    "# 'Curah Hujan': 0,\n",
    "# 'Kelembaban (Rata-rata)': 0,\n",
    "# 'Kecepatan Angin Maksimum (m/s)': 0,\n",
    "# 'Lama Sinar Matahari': 0,\n",
    "# 'Suhu (Max)': 50, \n",
    "# 'Suhu (Min)': 40,\n",
    "input_data = np.array([[0, 0, 0, 0, 50, 40]])\n",
    "\n",
    "input_df = pd.DataFrame(input_data, columns=['RR', 'RH_avg', 'ff_avg', 'ss', 'Tx', 'Tn'])\n",
    "prediction = knn.predict(input_df)\n",
    "\n",
    "print(map_drought_condition(prediction[0]))"
   ]
  }
 ],
 "metadata": {
  "kernelspec": {
   "display_name": "Python 3",
   "language": "python",
   "name": "python3"
  },
  "language_info": {
   "codemirror_mode": {
    "name": "ipython",
    "version": 3
   },
   "file_extension": ".py",
   "mimetype": "text/x-python",
   "name": "python",
   "nbconvert_exporter": "python",
   "pygments_lexer": "ipython3",
   "version": "3.11.3"
  },
  "orig_nbformat": 4
 },
 "nbformat": 4,
 "nbformat_minor": 2
}
